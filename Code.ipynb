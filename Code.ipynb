{
 "metadata": {
  "kernelspec": {
   "language": "python",
   "display_name": "Python 3",
   "name": "python3"
  },
  "language_info": {
   "name": "python",
   "version": "3.7.10",
   "mimetype": "text/x-python",
   "codemirror_mode": {
    "name": "ipython",
    "version": 3
   },
   "pygments_lexer": "ipython3",
   "nbconvert_exporter": "python",
   "file_extension": ".py"
  }
 },
 "nbformat_minor": 4,
 "nbformat": 4,
 "cells": [
  {
   "cell_type": "code",
   "source": [
    "# This Python 3 environment comes with many helpful analytics libraries installed\n",
    "# It is defined by the kaggle/python Docker image: https://github.com/kaggle/docker-python\n",
    "# For example, here's several helpful packages to load\n",
    "\n",
    "import numpy as np # linear algebra\n",
    "import pandas as pd # data processing, CSV file I/O (e.g. pd.read_csv)\n",
    "\n",
    "# Input data files are available in the read-only \"../input/\" directory\n",
    "# For example, running this (by clicking run or pressing Shift+Enter) will list all files under the input directory\n",
    "\n",
    "import os\n",
    "for dirname, _, filenames in os.walk('/kaggle/input'):\n",
    "    for filename in filenames:\n",
    "        print(os.path.join(dirname, filename))\n",
    "\n",
    "# You can write up to 20GB to the current directory (/kaggle/working/) that gets preserved as output when you create a version using \"Save & Run All\" \n",
    "# You can also write temporary files to /kaggle/temp/, but they won't be saved outside of the current session"
   ],
   "metadata": {
    "_uuid": "8f2839f25d086af736a60e9eeb907d3b93b6e0e5",
    "_cell_guid": "b1076dfc-b9ad-4769-8c92-a6c4dae69d19",
    "execution": {
     "iopub.status.busy": "2021-06-21T12:32:55.393741Z",
     "iopub.execute_input": "2021-06-21T12:32:55.394360Z",
     "iopub.status.idle": "2021-06-21T12:32:55.415999Z",
     "shell.execute_reply.started": "2021-06-21T12:32:55.394257Z",
     "shell.execute_reply": "2021-06-21T12:32:55.414664Z"
    },
    "trusted": true,
    "ExecuteTime": {
     "end_time": "2023-08-26T03:15:08.367888900Z",
     "start_time": "2023-08-26T03:15:08.041189400Z"
    }
   },
   "execution_count": 68,
   "outputs": []
  },
  {
   "cell_type": "code",
   "source": [
    "movies = pd.read_csv('tmdb_5000_movies.csv')\n",
    "credits = pd.read_csv('tmdb_5000_credits.csv') "
   ],
   "metadata": {
    "execution": {
     "iopub.status.busy": "2021-06-21T12:36:31.347717Z",
     "iopub.execute_input": "2021-06-21T12:36:31.348105Z",
     "iopub.status.idle": "2021-06-21T12:36:32.003856Z",
     "shell.execute_reply.started": "2021-06-21T12:36:31.348073Z",
     "shell.execute_reply": "2021-06-21T12:36:32.002744Z"
    },
    "trusted": true,
    "ExecuteTime": {
     "end_time": "2023-08-26T03:15:08.632874500Z",
     "start_time": "2023-08-26T03:15:08.050513200Z"
    }
   },
   "execution_count": 69,
   "outputs": []
  },
  {
   "cell_type": "code",
   "source": [
    "movies.head(2)"
   ],
   "metadata": {
    "execution": {
     "iopub.status.busy": "2021-06-21T12:36:33.757346Z",
     "iopub.execute_input": "2021-06-21T12:36:33.757778Z",
     "iopub.status.idle": "2021-06-21T12:36:33.781729Z",
     "shell.execute_reply.started": "2021-06-21T12:36:33.757743Z",
     "shell.execute_reply": "2021-06-21T12:36:33.780738Z"
    },
    "trusted": true,
    "ExecuteTime": {
     "end_time": "2023-08-26T03:15:08.647905400Z",
     "start_time": "2023-08-26T03:15:08.645066300Z"
    }
   },
   "execution_count": 70,
   "outputs": [
    {
     "data": {
      "text/plain": "      budget                                             genres  \\\n0  237000000  [{\"id\": 28, \"name\": \"Action\"}, {\"id\": 12, \"nam...   \n1  300000000  [{\"id\": 12, \"name\": \"Adventure\"}, {\"id\": 14, \"...   \n\n                                       homepage     id  \\\n0                   http://www.avatarmovie.com/  19995   \n1  http://disney.go.com/disneypictures/pirates/    285   \n\n                                            keywords original_language  \\\n0  [{\"id\": 1463, \"name\": \"culture clash\"}, {\"id\":...                en   \n1  [{\"id\": 270, \"name\": \"ocean\"}, {\"id\": 726, \"na...                en   \n\n                             original_title  \\\n0                                    Avatar   \n1  Pirates of the Caribbean: At World's End   \n\n                                            overview  popularity  \\\n0  In the 22nd century, a paraplegic Marine is di...  150.437577   \n1  Captain Barbossa, long believed to be dead, ha...  139.082615   \n\n                                production_companies  \\\n0  [{\"name\": \"Ingenious Film Partners\", \"id\": 289...   \n1  [{\"name\": \"Walt Disney Pictures\", \"id\": 2}, {\"...   \n\n                                production_countries release_date     revenue  \\\n0  [{\"iso_3166_1\": \"US\", \"name\": \"United States o...   2009-12-10  2787965087   \n1  [{\"iso_3166_1\": \"US\", \"name\": \"United States o...   2007-05-19   961000000   \n\n   runtime                                   spoken_languages    status  \\\n0    162.0  [{\"iso_639_1\": \"en\", \"name\": \"English\"}, {\"iso...  Released   \n1    169.0           [{\"iso_639_1\": \"en\", \"name\": \"English\"}]  Released   \n\n                                          tagline  \\\n0                     Enter the World of Pandora.   \n1  At the end of the world, the adventure begins.   \n\n                                      title  vote_average  vote_count  \n0                                    Avatar           7.2       11800  \n1  Pirates of the Caribbean: At World's End           6.9        4500  ",
      "text/html": "<div>\n<style scoped>\n    .dataframe tbody tr th:only-of-type {\n        vertical-align: middle;\n    }\n\n    .dataframe tbody tr th {\n        vertical-align: top;\n    }\n\n    .dataframe thead th {\n        text-align: right;\n    }\n</style>\n<table border=\"1\" class=\"dataframe\">\n  <thead>\n    <tr style=\"text-align: right;\">\n      <th></th>\n      <th>budget</th>\n      <th>genres</th>\n      <th>homepage</th>\n      <th>id</th>\n      <th>keywords</th>\n      <th>original_language</th>\n      <th>original_title</th>\n      <th>overview</th>\n      <th>popularity</th>\n      <th>production_companies</th>\n      <th>production_countries</th>\n      <th>release_date</th>\n      <th>revenue</th>\n      <th>runtime</th>\n      <th>spoken_languages</th>\n      <th>status</th>\n      <th>tagline</th>\n      <th>title</th>\n      <th>vote_average</th>\n      <th>vote_count</th>\n    </tr>\n  </thead>\n  <tbody>\n    <tr>\n      <th>0</th>\n      <td>237000000</td>\n      <td>[{\"id\": 28, \"name\": \"Action\"}, {\"id\": 12, \"nam...</td>\n      <td>http://www.avatarmovie.com/</td>\n      <td>19995</td>\n      <td>[{\"id\": 1463, \"name\": \"culture clash\"}, {\"id\":...</td>\n      <td>en</td>\n      <td>Avatar</td>\n      <td>In the 22nd century, a paraplegic Marine is di...</td>\n      <td>150.437577</td>\n      <td>[{\"name\": \"Ingenious Film Partners\", \"id\": 289...</td>\n      <td>[{\"iso_3166_1\": \"US\", \"name\": \"United States o...</td>\n      <td>2009-12-10</td>\n      <td>2787965087</td>\n      <td>162.0</td>\n      <td>[{\"iso_639_1\": \"en\", \"name\": \"English\"}, {\"iso...</td>\n      <td>Released</td>\n      <td>Enter the World of Pandora.</td>\n      <td>Avatar</td>\n      <td>7.2</td>\n      <td>11800</td>\n    </tr>\n    <tr>\n      <th>1</th>\n      <td>300000000</td>\n      <td>[{\"id\": 12, \"name\": \"Adventure\"}, {\"id\": 14, \"...</td>\n      <td>http://disney.go.com/disneypictures/pirates/</td>\n      <td>285</td>\n      <td>[{\"id\": 270, \"name\": \"ocean\"}, {\"id\": 726, \"na...</td>\n      <td>en</td>\n      <td>Pirates of the Caribbean: At World's End</td>\n      <td>Captain Barbossa, long believed to be dead, ha...</td>\n      <td>139.082615</td>\n      <td>[{\"name\": \"Walt Disney Pictures\", \"id\": 2}, {\"...</td>\n      <td>[{\"iso_3166_1\": \"US\", \"name\": \"United States o...</td>\n      <td>2007-05-19</td>\n      <td>961000000</td>\n      <td>169.0</td>\n      <td>[{\"iso_639_1\": \"en\", \"name\": \"English\"}]</td>\n      <td>Released</td>\n      <td>At the end of the world, the adventure begins.</td>\n      <td>Pirates of the Caribbean: At World's End</td>\n      <td>6.9</td>\n      <td>4500</td>\n    </tr>\n  </tbody>\n</table>\n</div>"
     },
     "execution_count": 70,
     "metadata": {},
     "output_type": "execute_result"
    }
   ]
  },
  {
   "cell_type": "code",
   "source": [
    "movies.shape"
   ],
   "metadata": {
    "execution": {
     "iopub.status.busy": "2021-06-21T12:33:06.307921Z",
     "iopub.execute_input": "2021-06-21T12:33:06.308311Z",
     "iopub.status.idle": "2021-06-21T12:33:06.316052Z",
     "shell.execute_reply.started": "2021-06-21T12:33:06.308279Z",
     "shell.execute_reply": "2021-06-21T12:33:06.314903Z"
    },
    "trusted": true,
    "ExecuteTime": {
     "end_time": "2023-08-26T03:15:08.666524600Z",
     "start_time": "2023-08-26T03:15:08.651102500Z"
    }
   },
   "execution_count": 71,
   "outputs": [
    {
     "data": {
      "text/plain": "(4803, 20)"
     },
     "execution_count": 71,
     "metadata": {},
     "output_type": "execute_result"
    }
   ]
  },
  {
   "cell_type": "code",
   "source": [
    "credits.head()"
   ],
   "metadata": {
    "execution": {
     "iopub.status.busy": "2021-06-21T12:33:08.787389Z",
     "iopub.execute_input": "2021-06-21T12:33:08.787791Z",
     "iopub.status.idle": "2021-06-21T12:33:08.800864Z",
     "shell.execute_reply.started": "2021-06-21T12:33:08.787758Z",
     "shell.execute_reply": "2021-06-21T12:33:08.799834Z"
    },
    "trusted": true,
    "ExecuteTime": {
     "end_time": "2023-08-26T03:15:08.730471300Z",
     "start_time": "2023-08-26T03:15:08.663793900Z"
    }
   },
   "execution_count": 72,
   "outputs": [
    {
     "data": {
      "text/plain": "   movie_id                                     title  \\\n0     19995                                    Avatar   \n1       285  Pirates of the Caribbean: At World's End   \n2    206647                                   Spectre   \n3     49026                     The Dark Knight Rises   \n4     49529                               John Carter   \n\n                                                cast  \\\n0  [{\"cast_id\": 242, \"character\": \"Jake Sully\", \"...   \n1  [{\"cast_id\": 4, \"character\": \"Captain Jack Spa...   \n2  [{\"cast_id\": 1, \"character\": \"James Bond\", \"cr...   \n3  [{\"cast_id\": 2, \"character\": \"Bruce Wayne / Ba...   \n4  [{\"cast_id\": 5, \"character\": \"John Carter\", \"c...   \n\n                                                crew  \n0  [{\"credit_id\": \"52fe48009251416c750aca23\", \"de...  \n1  [{\"credit_id\": \"52fe4232c3a36847f800b579\", \"de...  \n2  [{\"credit_id\": \"54805967c3a36829b5002c41\", \"de...  \n3  [{\"credit_id\": \"52fe4781c3a36847f81398c3\", \"de...  \n4  [{\"credit_id\": \"52fe479ac3a36847f813eaa3\", \"de...  ",
      "text/html": "<div>\n<style scoped>\n    .dataframe tbody tr th:only-of-type {\n        vertical-align: middle;\n    }\n\n    .dataframe tbody tr th {\n        vertical-align: top;\n    }\n\n    .dataframe thead th {\n        text-align: right;\n    }\n</style>\n<table border=\"1\" class=\"dataframe\">\n  <thead>\n    <tr style=\"text-align: right;\">\n      <th></th>\n      <th>movie_id</th>\n      <th>title</th>\n      <th>cast</th>\n      <th>crew</th>\n    </tr>\n  </thead>\n  <tbody>\n    <tr>\n      <th>0</th>\n      <td>19995</td>\n      <td>Avatar</td>\n      <td>[{\"cast_id\": 242, \"character\": \"Jake Sully\", \"...</td>\n      <td>[{\"credit_id\": \"52fe48009251416c750aca23\", \"de...</td>\n    </tr>\n    <tr>\n      <th>1</th>\n      <td>285</td>\n      <td>Pirates of the Caribbean: At World's End</td>\n      <td>[{\"cast_id\": 4, \"character\": \"Captain Jack Spa...</td>\n      <td>[{\"credit_id\": \"52fe4232c3a36847f800b579\", \"de...</td>\n    </tr>\n    <tr>\n      <th>2</th>\n      <td>206647</td>\n      <td>Spectre</td>\n      <td>[{\"cast_id\": 1, \"character\": \"James Bond\", \"cr...</td>\n      <td>[{\"credit_id\": \"54805967c3a36829b5002c41\", \"de...</td>\n    </tr>\n    <tr>\n      <th>3</th>\n      <td>49026</td>\n      <td>The Dark Knight Rises</td>\n      <td>[{\"cast_id\": 2, \"character\": \"Bruce Wayne / Ba...</td>\n      <td>[{\"credit_id\": \"52fe4781c3a36847f81398c3\", \"de...</td>\n    </tr>\n    <tr>\n      <th>4</th>\n      <td>49529</td>\n      <td>John Carter</td>\n      <td>[{\"cast_id\": 5, \"character\": \"John Carter\", \"c...</td>\n      <td>[{\"credit_id\": \"52fe479ac3a36847f813eaa3\", \"de...</td>\n    </tr>\n  </tbody>\n</table>\n</div>"
     },
     "execution_count": 72,
     "metadata": {},
     "output_type": "execute_result"
    }
   ]
  },
  {
   "cell_type": "code",
   "source": [
    "movies = movies.merge(credits,on='title')"
   ],
   "metadata": {
    "execution": {
     "iopub.status.busy": "2021-06-21T12:36:38.686521Z",
     "iopub.execute_input": "2021-06-21T12:36:38.687005Z",
     "iopub.status.idle": "2021-06-21T12:36:38.713343Z",
     "shell.execute_reply.started": "2021-06-21T12:36:38.686963Z",
     "shell.execute_reply": "2021-06-21T12:36:38.711939Z"
    },
    "trusted": true,
    "ExecuteTime": {
     "end_time": "2023-08-26T03:15:08.775321500Z",
     "start_time": "2023-08-26T03:15:08.668683100Z"
    }
   },
   "execution_count": 73,
   "outputs": []
  },
  {
   "cell_type": "code",
   "source": [
    "movies.head()\n",
    "# budget\n",
    "# homepage\n",
    "# id\n",
    "# original_language\n",
    "# original_title\n",
    "# popularity\n",
    "# production_comapny\n",
    "# production_countries\n",
    "# release-date(not sure)"
   ],
   "metadata": {
    "execution": {
     "iopub.status.busy": "2021-06-19T12:48:23.470187Z",
     "iopub.execute_input": "2021-06-19T12:48:23.470754Z",
     "iopub.status.idle": "2021-06-19T12:48:23.5041Z",
     "shell.execute_reply.started": "2021-06-19T12:48:23.470724Z",
     "shell.execute_reply": "2021-06-19T12:48:23.503327Z"
    },
    "trusted": true,
    "ExecuteTime": {
     "end_time": "2023-08-26T03:15:08.794403100Z",
     "start_time": "2023-08-26T03:15:08.703583500Z"
    }
   },
   "execution_count": 74,
   "outputs": [
    {
     "data": {
      "text/plain": "      budget                                             genres  \\\n0  237000000  [{\"id\": 28, \"name\": \"Action\"}, {\"id\": 12, \"nam...   \n1  300000000  [{\"id\": 12, \"name\": \"Adventure\"}, {\"id\": 14, \"...   \n2  245000000  [{\"id\": 28, \"name\": \"Action\"}, {\"id\": 12, \"nam...   \n3  250000000  [{\"id\": 28, \"name\": \"Action\"}, {\"id\": 80, \"nam...   \n4  260000000  [{\"id\": 28, \"name\": \"Action\"}, {\"id\": 12, \"nam...   \n\n                                       homepage      id  \\\n0                   http://www.avatarmovie.com/   19995   \n1  http://disney.go.com/disneypictures/pirates/     285   \n2   http://www.sonypictures.com/movies/spectre/  206647   \n3            http://www.thedarkknightrises.com/   49026   \n4          http://movies.disney.com/john-carter   49529   \n\n                                            keywords original_language  \\\n0  [{\"id\": 1463, \"name\": \"culture clash\"}, {\"id\":...                en   \n1  [{\"id\": 270, \"name\": \"ocean\"}, {\"id\": 726, \"na...                en   \n2  [{\"id\": 470, \"name\": \"spy\"}, {\"id\": 818, \"name...                en   \n3  [{\"id\": 849, \"name\": \"dc comics\"}, {\"id\": 853,...                en   \n4  [{\"id\": 818, \"name\": \"based on novel\"}, {\"id\":...                en   \n\n                             original_title  \\\n0                                    Avatar   \n1  Pirates of the Caribbean: At World's End   \n2                                   Spectre   \n3                     The Dark Knight Rises   \n4                               John Carter   \n\n                                            overview  popularity  \\\n0  In the 22nd century, a paraplegic Marine is di...  150.437577   \n1  Captain Barbossa, long believed to be dead, ha...  139.082615   \n2  A cryptic message from Bond’s past sends him o...  107.376788   \n3  Following the death of District Attorney Harve...  112.312950   \n4  John Carter is a war-weary, former military ca...   43.926995   \n\n                                production_companies  ... runtime  \\\n0  [{\"name\": \"Ingenious Film Partners\", \"id\": 289...  ...   162.0   \n1  [{\"name\": \"Walt Disney Pictures\", \"id\": 2}, {\"...  ...   169.0   \n2  [{\"name\": \"Columbia Pictures\", \"id\": 5}, {\"nam...  ...   148.0   \n3  [{\"name\": \"Legendary Pictures\", \"id\": 923}, {\"...  ...   165.0   \n4        [{\"name\": \"Walt Disney Pictures\", \"id\": 2}]  ...   132.0   \n\n                                    spoken_languages    status  \\\n0  [{\"iso_639_1\": \"en\", \"name\": \"English\"}, {\"iso...  Released   \n1           [{\"iso_639_1\": \"en\", \"name\": \"English\"}]  Released   \n2  [{\"iso_639_1\": \"fr\", \"name\": \"Fran\\u00e7ais\"},...  Released   \n3           [{\"iso_639_1\": \"en\", \"name\": \"English\"}]  Released   \n4           [{\"iso_639_1\": \"en\", \"name\": \"English\"}]  Released   \n\n                                          tagline  \\\n0                     Enter the World of Pandora.   \n1  At the end of the world, the adventure begins.   \n2                           A Plan No One Escapes   \n3                                 The Legend Ends   \n4            Lost in our world, found in another.   \n\n                                      title vote_average vote_count movie_id  \\\n0                                    Avatar          7.2      11800    19995   \n1  Pirates of the Caribbean: At World's End          6.9       4500      285   \n2                                   Spectre          6.3       4466   206647   \n3                     The Dark Knight Rises          7.6       9106    49026   \n4                               John Carter          6.1       2124    49529   \n\n                                                cast  \\\n0  [{\"cast_id\": 242, \"character\": \"Jake Sully\", \"...   \n1  [{\"cast_id\": 4, \"character\": \"Captain Jack Spa...   \n2  [{\"cast_id\": 1, \"character\": \"James Bond\", \"cr...   \n3  [{\"cast_id\": 2, \"character\": \"Bruce Wayne / Ba...   \n4  [{\"cast_id\": 5, \"character\": \"John Carter\", \"c...   \n\n                                                crew  \n0  [{\"credit_id\": \"52fe48009251416c750aca23\", \"de...  \n1  [{\"credit_id\": \"52fe4232c3a36847f800b579\", \"de...  \n2  [{\"credit_id\": \"54805967c3a36829b5002c41\", \"de...  \n3  [{\"credit_id\": \"52fe4781c3a36847f81398c3\", \"de...  \n4  [{\"credit_id\": \"52fe479ac3a36847f813eaa3\", \"de...  \n\n[5 rows x 23 columns]",
      "text/html": "<div>\n<style scoped>\n    .dataframe tbody tr th:only-of-type {\n        vertical-align: middle;\n    }\n\n    .dataframe tbody tr th {\n        vertical-align: top;\n    }\n\n    .dataframe thead th {\n        text-align: right;\n    }\n</style>\n<table border=\"1\" class=\"dataframe\">\n  <thead>\n    <tr style=\"text-align: right;\">\n      <th></th>\n      <th>budget</th>\n      <th>genres</th>\n      <th>homepage</th>\n      <th>id</th>\n      <th>keywords</th>\n      <th>original_language</th>\n      <th>original_title</th>\n      <th>overview</th>\n      <th>popularity</th>\n      <th>production_companies</th>\n      <th>...</th>\n      <th>runtime</th>\n      <th>spoken_languages</th>\n      <th>status</th>\n      <th>tagline</th>\n      <th>title</th>\n      <th>vote_average</th>\n      <th>vote_count</th>\n      <th>movie_id</th>\n      <th>cast</th>\n      <th>crew</th>\n    </tr>\n  </thead>\n  <tbody>\n    <tr>\n      <th>0</th>\n      <td>237000000</td>\n      <td>[{\"id\": 28, \"name\": \"Action\"}, {\"id\": 12, \"nam...</td>\n      <td>http://www.avatarmovie.com/</td>\n      <td>19995</td>\n      <td>[{\"id\": 1463, \"name\": \"culture clash\"}, {\"id\":...</td>\n      <td>en</td>\n      <td>Avatar</td>\n      <td>In the 22nd century, a paraplegic Marine is di...</td>\n      <td>150.437577</td>\n      <td>[{\"name\": \"Ingenious Film Partners\", \"id\": 289...</td>\n      <td>...</td>\n      <td>162.0</td>\n      <td>[{\"iso_639_1\": \"en\", \"name\": \"English\"}, {\"iso...</td>\n      <td>Released</td>\n      <td>Enter the World of Pandora.</td>\n      <td>Avatar</td>\n      <td>7.2</td>\n      <td>11800</td>\n      <td>19995</td>\n      <td>[{\"cast_id\": 242, \"character\": \"Jake Sully\", \"...</td>\n      <td>[{\"credit_id\": \"52fe48009251416c750aca23\", \"de...</td>\n    </tr>\n    <tr>\n      <th>1</th>\n      <td>300000000</td>\n      <td>[{\"id\": 12, \"name\": \"Adventure\"}, {\"id\": 14, \"...</td>\n      <td>http://disney.go.com/disneypictures/pirates/</td>\n      <td>285</td>\n      <td>[{\"id\": 270, \"name\": \"ocean\"}, {\"id\": 726, \"na...</td>\n      <td>en</td>\n      <td>Pirates of the Caribbean: At World's End</td>\n      <td>Captain Barbossa, long believed to be dead, ha...</td>\n      <td>139.082615</td>\n      <td>[{\"name\": \"Walt Disney Pictures\", \"id\": 2}, {\"...</td>\n      <td>...</td>\n      <td>169.0</td>\n      <td>[{\"iso_639_1\": \"en\", \"name\": \"English\"}]</td>\n      <td>Released</td>\n      <td>At the end of the world, the adventure begins.</td>\n      <td>Pirates of the Caribbean: At World's End</td>\n      <td>6.9</td>\n      <td>4500</td>\n      <td>285</td>\n      <td>[{\"cast_id\": 4, \"character\": \"Captain Jack Spa...</td>\n      <td>[{\"credit_id\": \"52fe4232c3a36847f800b579\", \"de...</td>\n    </tr>\n    <tr>\n      <th>2</th>\n      <td>245000000</td>\n      <td>[{\"id\": 28, \"name\": \"Action\"}, {\"id\": 12, \"nam...</td>\n      <td>http://www.sonypictures.com/movies/spectre/</td>\n      <td>206647</td>\n      <td>[{\"id\": 470, \"name\": \"spy\"}, {\"id\": 818, \"name...</td>\n      <td>en</td>\n      <td>Spectre</td>\n      <td>A cryptic message from Bond’s past sends him o...</td>\n      <td>107.376788</td>\n      <td>[{\"name\": \"Columbia Pictures\", \"id\": 5}, {\"nam...</td>\n      <td>...</td>\n      <td>148.0</td>\n      <td>[{\"iso_639_1\": \"fr\", \"name\": \"Fran\\u00e7ais\"},...</td>\n      <td>Released</td>\n      <td>A Plan No One Escapes</td>\n      <td>Spectre</td>\n      <td>6.3</td>\n      <td>4466</td>\n      <td>206647</td>\n      <td>[{\"cast_id\": 1, \"character\": \"James Bond\", \"cr...</td>\n      <td>[{\"credit_id\": \"54805967c3a36829b5002c41\", \"de...</td>\n    </tr>\n    <tr>\n      <th>3</th>\n      <td>250000000</td>\n      <td>[{\"id\": 28, \"name\": \"Action\"}, {\"id\": 80, \"nam...</td>\n      <td>http://www.thedarkknightrises.com/</td>\n      <td>49026</td>\n      <td>[{\"id\": 849, \"name\": \"dc comics\"}, {\"id\": 853,...</td>\n      <td>en</td>\n      <td>The Dark Knight Rises</td>\n      <td>Following the death of District Attorney Harve...</td>\n      <td>112.312950</td>\n      <td>[{\"name\": \"Legendary Pictures\", \"id\": 923}, {\"...</td>\n      <td>...</td>\n      <td>165.0</td>\n      <td>[{\"iso_639_1\": \"en\", \"name\": \"English\"}]</td>\n      <td>Released</td>\n      <td>The Legend Ends</td>\n      <td>The Dark Knight Rises</td>\n      <td>7.6</td>\n      <td>9106</td>\n      <td>49026</td>\n      <td>[{\"cast_id\": 2, \"character\": \"Bruce Wayne / Ba...</td>\n      <td>[{\"credit_id\": \"52fe4781c3a36847f81398c3\", \"de...</td>\n    </tr>\n    <tr>\n      <th>4</th>\n      <td>260000000</td>\n      <td>[{\"id\": 28, \"name\": \"Action\"}, {\"id\": 12, \"nam...</td>\n      <td>http://movies.disney.com/john-carter</td>\n      <td>49529</td>\n      <td>[{\"id\": 818, \"name\": \"based on novel\"}, {\"id\":...</td>\n      <td>en</td>\n      <td>John Carter</td>\n      <td>John Carter is a war-weary, former military ca...</td>\n      <td>43.926995</td>\n      <td>[{\"name\": \"Walt Disney Pictures\", \"id\": 2}]</td>\n      <td>...</td>\n      <td>132.0</td>\n      <td>[{\"iso_639_1\": \"en\", \"name\": \"English\"}]</td>\n      <td>Released</td>\n      <td>Lost in our world, found in another.</td>\n      <td>John Carter</td>\n      <td>6.1</td>\n      <td>2124</td>\n      <td>49529</td>\n      <td>[{\"cast_id\": 5, \"character\": \"John Carter\", \"c...</td>\n      <td>[{\"credit_id\": \"52fe479ac3a36847f813eaa3\", \"de...</td>\n    </tr>\n  </tbody>\n</table>\n<p>5 rows × 23 columns</p>\n</div>"
     },
     "execution_count": 74,
     "metadata": {},
     "output_type": "execute_result"
    }
   ]
  },
  {
   "cell_type": "code",
   "source": [
    "movies = movies[['movie_id','title','overview','genres','keywords','cast','crew']]"
   ],
   "metadata": {
    "execution": {
     "iopub.status.busy": "2021-06-21T12:36:41.393326Z",
     "iopub.execute_input": "2021-06-21T12:36:41.393733Z",
     "iopub.status.idle": "2021-06-21T12:36:41.406883Z",
     "shell.execute_reply.started": "2021-06-21T12:36:41.393699Z",
     "shell.execute_reply": "2021-06-21T12:36:41.405822Z"
    },
    "trusted": true,
    "ExecuteTime": {
     "end_time": "2023-08-26T03:15:08.794403100Z",
     "start_time": "2023-08-26T03:15:08.720700600Z"
    }
   },
   "execution_count": 75,
   "outputs": []
  },
  {
   "cell_type": "code",
   "source": [
    "movies.head()"
   ],
   "metadata": {
    "execution": {
     "iopub.status.busy": "2021-06-21T12:33:39.516481Z",
     "iopub.execute_input": "2021-06-21T12:33:39.517061Z",
     "iopub.status.idle": "2021-06-21T12:33:39.532499Z",
     "shell.execute_reply.started": "2021-06-21T12:33:39.517012Z",
     "shell.execute_reply": "2021-06-21T12:33:39.531584Z"
    },
    "trusted": true,
    "ExecuteTime": {
     "end_time": "2023-08-26T03:15:08.841209600Z",
     "start_time": "2023-08-26T03:15:08.736008800Z"
    }
   },
   "execution_count": 76,
   "outputs": [
    {
     "data": {
      "text/plain": "   movie_id                                     title  \\\n0     19995                                    Avatar   \n1       285  Pirates of the Caribbean: At World's End   \n2    206647                                   Spectre   \n3     49026                     The Dark Knight Rises   \n4     49529                               John Carter   \n\n                                            overview  \\\n0  In the 22nd century, a paraplegic Marine is di...   \n1  Captain Barbossa, long believed to be dead, ha...   \n2  A cryptic message from Bond’s past sends him o...   \n3  Following the death of District Attorney Harve...   \n4  John Carter is a war-weary, former military ca...   \n\n                                              genres  \\\n0  [{\"id\": 28, \"name\": \"Action\"}, {\"id\": 12, \"nam...   \n1  [{\"id\": 12, \"name\": \"Adventure\"}, {\"id\": 14, \"...   \n2  [{\"id\": 28, \"name\": \"Action\"}, {\"id\": 12, \"nam...   \n3  [{\"id\": 28, \"name\": \"Action\"}, {\"id\": 80, \"nam...   \n4  [{\"id\": 28, \"name\": \"Action\"}, {\"id\": 12, \"nam...   \n\n                                            keywords  \\\n0  [{\"id\": 1463, \"name\": \"culture clash\"}, {\"id\":...   \n1  [{\"id\": 270, \"name\": \"ocean\"}, {\"id\": 726, \"na...   \n2  [{\"id\": 470, \"name\": \"spy\"}, {\"id\": 818, \"name...   \n3  [{\"id\": 849, \"name\": \"dc comics\"}, {\"id\": 853,...   \n4  [{\"id\": 818, \"name\": \"based on novel\"}, {\"id\":...   \n\n                                                cast  \\\n0  [{\"cast_id\": 242, \"character\": \"Jake Sully\", \"...   \n1  [{\"cast_id\": 4, \"character\": \"Captain Jack Spa...   \n2  [{\"cast_id\": 1, \"character\": \"James Bond\", \"cr...   \n3  [{\"cast_id\": 2, \"character\": \"Bruce Wayne / Ba...   \n4  [{\"cast_id\": 5, \"character\": \"John Carter\", \"c...   \n\n                                                crew  \n0  [{\"credit_id\": \"52fe48009251416c750aca23\", \"de...  \n1  [{\"credit_id\": \"52fe4232c3a36847f800b579\", \"de...  \n2  [{\"credit_id\": \"54805967c3a36829b5002c41\", \"de...  \n3  [{\"credit_id\": \"52fe4781c3a36847f81398c3\", \"de...  \n4  [{\"credit_id\": \"52fe479ac3a36847f813eaa3\", \"de...  ",
      "text/html": "<div>\n<style scoped>\n    .dataframe tbody tr th:only-of-type {\n        vertical-align: middle;\n    }\n\n    .dataframe tbody tr th {\n        vertical-align: top;\n    }\n\n    .dataframe thead th {\n        text-align: right;\n    }\n</style>\n<table border=\"1\" class=\"dataframe\">\n  <thead>\n    <tr style=\"text-align: right;\">\n      <th></th>\n      <th>movie_id</th>\n      <th>title</th>\n      <th>overview</th>\n      <th>genres</th>\n      <th>keywords</th>\n      <th>cast</th>\n      <th>crew</th>\n    </tr>\n  </thead>\n  <tbody>\n    <tr>\n      <th>0</th>\n      <td>19995</td>\n      <td>Avatar</td>\n      <td>In the 22nd century, a paraplegic Marine is di...</td>\n      <td>[{\"id\": 28, \"name\": \"Action\"}, {\"id\": 12, \"nam...</td>\n      <td>[{\"id\": 1463, \"name\": \"culture clash\"}, {\"id\":...</td>\n      <td>[{\"cast_id\": 242, \"character\": \"Jake Sully\", \"...</td>\n      <td>[{\"credit_id\": \"52fe48009251416c750aca23\", \"de...</td>\n    </tr>\n    <tr>\n      <th>1</th>\n      <td>285</td>\n      <td>Pirates of the Caribbean: At World's End</td>\n      <td>Captain Barbossa, long believed to be dead, ha...</td>\n      <td>[{\"id\": 12, \"name\": \"Adventure\"}, {\"id\": 14, \"...</td>\n      <td>[{\"id\": 270, \"name\": \"ocean\"}, {\"id\": 726, \"na...</td>\n      <td>[{\"cast_id\": 4, \"character\": \"Captain Jack Spa...</td>\n      <td>[{\"credit_id\": \"52fe4232c3a36847f800b579\", \"de...</td>\n    </tr>\n    <tr>\n      <th>2</th>\n      <td>206647</td>\n      <td>Spectre</td>\n      <td>A cryptic message from Bond’s past sends him o...</td>\n      <td>[{\"id\": 28, \"name\": \"Action\"}, {\"id\": 12, \"nam...</td>\n      <td>[{\"id\": 470, \"name\": \"spy\"}, {\"id\": 818, \"name...</td>\n      <td>[{\"cast_id\": 1, \"character\": \"James Bond\", \"cr...</td>\n      <td>[{\"credit_id\": \"54805967c3a36829b5002c41\", \"de...</td>\n    </tr>\n    <tr>\n      <th>3</th>\n      <td>49026</td>\n      <td>The Dark Knight Rises</td>\n      <td>Following the death of District Attorney Harve...</td>\n      <td>[{\"id\": 28, \"name\": \"Action\"}, {\"id\": 80, \"nam...</td>\n      <td>[{\"id\": 849, \"name\": \"dc comics\"}, {\"id\": 853,...</td>\n      <td>[{\"cast_id\": 2, \"character\": \"Bruce Wayne / Ba...</td>\n      <td>[{\"credit_id\": \"52fe4781c3a36847f81398c3\", \"de...</td>\n    </tr>\n    <tr>\n      <th>4</th>\n      <td>49529</td>\n      <td>John Carter</td>\n      <td>John Carter is a war-weary, former military ca...</td>\n      <td>[{\"id\": 28, \"name\": \"Action\"}, {\"id\": 12, \"nam...</td>\n      <td>[{\"id\": 818, \"name\": \"based on novel\"}, {\"id\":...</td>\n      <td>[{\"cast_id\": 5, \"character\": \"John Carter\", \"c...</td>\n      <td>[{\"credit_id\": \"52fe479ac3a36847f813eaa3\", \"de...</td>\n    </tr>\n  </tbody>\n</table>\n</div>"
     },
     "execution_count": 76,
     "metadata": {},
     "output_type": "execute_result"
    }
   ]
  },
  {
   "cell_type": "code",
   "source": [
    "import ast"
   ],
   "metadata": {
    "execution": {
     "iopub.status.busy": "2021-06-21T12:34:19.382331Z",
     "iopub.execute_input": "2021-06-21T12:34:19.382856Z",
     "iopub.status.idle": "2021-06-21T12:34:19.387416Z",
     "shell.execute_reply.started": "2021-06-21T12:34:19.382822Z",
     "shell.execute_reply": "2021-06-21T12:34:19.386451Z"
    },
    "trusted": true,
    "ExecuteTime": {
     "end_time": "2023-08-26T03:15:08.886324800Z",
     "start_time": "2023-08-26T03:15:08.741416400Z"
    }
   },
   "execution_count": 77,
   "outputs": []
  },
  {
   "cell_type": "code",
   "source": [
    "def convert(text):\n",
    "    L = []\n",
    "    for i in ast.literal_eval(text):\n",
    "        L.append(i['name']) \n",
    "    return L "
   ],
   "metadata": {
    "execution": {
     "iopub.status.busy": "2021-06-21T12:36:47.539904Z",
     "iopub.execute_input": "2021-06-21T12:36:47.540453Z",
     "iopub.status.idle": "2021-06-21T12:36:47.545014Z",
     "shell.execute_reply.started": "2021-06-21T12:36:47.540418Z",
     "shell.execute_reply": "2021-06-21T12:36:47.544243Z"
    },
    "trusted": true,
    "ExecuteTime": {
     "end_time": "2023-08-26T03:15:08.886324800Z",
     "start_time": "2023-08-26T03:15:08.746238100Z"
    }
   },
   "execution_count": 78,
   "outputs": []
  },
  {
   "cell_type": "code",
   "source": [
    "movies.dropna(inplace=True)"
   ],
   "metadata": {
    "execution": {
     "iopub.status.busy": "2021-06-21T12:36:50.059006Z",
     "iopub.execute_input": "2021-06-21T12:36:50.059538Z",
     "iopub.status.idle": "2021-06-21T12:36:50.073095Z",
     "shell.execute_reply.started": "2021-06-21T12:36:50.059504Z",
     "shell.execute_reply": "2021-06-21T12:36:50.071577Z"
    },
    "trusted": true,
    "ExecuteTime": {
     "end_time": "2023-08-26T03:15:08.917492500Z",
     "start_time": "2023-08-26T03:15:08.749584300Z"
    }
   },
   "execution_count": 79,
   "outputs": []
  },
  {
   "cell_type": "code",
   "source": [
    "movies['genres'] = movies['genres'].apply(convert)\n",
    "movies.head()"
   ],
   "metadata": {
    "execution": {
     "iopub.status.busy": "2021-06-21T12:36:52.343645Z",
     "iopub.execute_input": "2021-06-21T12:36:52.344121Z",
     "iopub.status.idle": "2021-06-21T12:36:52.523910Z",
     "shell.execute_reply.started": "2021-06-21T12:36:52.344082Z",
     "shell.execute_reply": "2021-06-21T12:36:52.522805Z"
    },
    "trusted": true,
    "ExecuteTime": {
     "end_time": "2023-08-26T03:15:09.110367600Z",
     "start_time": "2023-08-26T03:15:08.765238700Z"
    }
   },
   "execution_count": 80,
   "outputs": [
    {
     "data": {
      "text/plain": "   movie_id                                     title  \\\n0     19995                                    Avatar   \n1       285  Pirates of the Caribbean: At World's End   \n2    206647                                   Spectre   \n3     49026                     The Dark Knight Rises   \n4     49529                               John Carter   \n\n                                            overview  \\\n0  In the 22nd century, a paraplegic Marine is di...   \n1  Captain Barbossa, long believed to be dead, ha...   \n2  A cryptic message from Bond’s past sends him o...   \n3  Following the death of District Attorney Harve...   \n4  John Carter is a war-weary, former military ca...   \n\n                                          genres  \\\n0  [Action, Adventure, Fantasy, Science Fiction]   \n1                   [Adventure, Fantasy, Action]   \n2                     [Action, Adventure, Crime]   \n3               [Action, Crime, Drama, Thriller]   \n4           [Action, Adventure, Science Fiction]   \n\n                                            keywords  \\\n0  [{\"id\": 1463, \"name\": \"culture clash\"}, {\"id\":...   \n1  [{\"id\": 270, \"name\": \"ocean\"}, {\"id\": 726, \"na...   \n2  [{\"id\": 470, \"name\": \"spy\"}, {\"id\": 818, \"name...   \n3  [{\"id\": 849, \"name\": \"dc comics\"}, {\"id\": 853,...   \n4  [{\"id\": 818, \"name\": \"based on novel\"}, {\"id\":...   \n\n                                                cast  \\\n0  [{\"cast_id\": 242, \"character\": \"Jake Sully\", \"...   \n1  [{\"cast_id\": 4, \"character\": \"Captain Jack Spa...   \n2  [{\"cast_id\": 1, \"character\": \"James Bond\", \"cr...   \n3  [{\"cast_id\": 2, \"character\": \"Bruce Wayne / Ba...   \n4  [{\"cast_id\": 5, \"character\": \"John Carter\", \"c...   \n\n                                                crew  \n0  [{\"credit_id\": \"52fe48009251416c750aca23\", \"de...  \n1  [{\"credit_id\": \"52fe4232c3a36847f800b579\", \"de...  \n2  [{\"credit_id\": \"54805967c3a36829b5002c41\", \"de...  \n3  [{\"credit_id\": \"52fe4781c3a36847f81398c3\", \"de...  \n4  [{\"credit_id\": \"52fe479ac3a36847f813eaa3\", \"de...  ",
      "text/html": "<div>\n<style scoped>\n    .dataframe tbody tr th:only-of-type {\n        vertical-align: middle;\n    }\n\n    .dataframe tbody tr th {\n        vertical-align: top;\n    }\n\n    .dataframe thead th {\n        text-align: right;\n    }\n</style>\n<table border=\"1\" class=\"dataframe\">\n  <thead>\n    <tr style=\"text-align: right;\">\n      <th></th>\n      <th>movie_id</th>\n      <th>title</th>\n      <th>overview</th>\n      <th>genres</th>\n      <th>keywords</th>\n      <th>cast</th>\n      <th>crew</th>\n    </tr>\n  </thead>\n  <tbody>\n    <tr>\n      <th>0</th>\n      <td>19995</td>\n      <td>Avatar</td>\n      <td>In the 22nd century, a paraplegic Marine is di...</td>\n      <td>[Action, Adventure, Fantasy, Science Fiction]</td>\n      <td>[{\"id\": 1463, \"name\": \"culture clash\"}, {\"id\":...</td>\n      <td>[{\"cast_id\": 242, \"character\": \"Jake Sully\", \"...</td>\n      <td>[{\"credit_id\": \"52fe48009251416c750aca23\", \"de...</td>\n    </tr>\n    <tr>\n      <th>1</th>\n      <td>285</td>\n      <td>Pirates of the Caribbean: At World's End</td>\n      <td>Captain Barbossa, long believed to be dead, ha...</td>\n      <td>[Adventure, Fantasy, Action]</td>\n      <td>[{\"id\": 270, \"name\": \"ocean\"}, {\"id\": 726, \"na...</td>\n      <td>[{\"cast_id\": 4, \"character\": \"Captain Jack Spa...</td>\n      <td>[{\"credit_id\": \"52fe4232c3a36847f800b579\", \"de...</td>\n    </tr>\n    <tr>\n      <th>2</th>\n      <td>206647</td>\n      <td>Spectre</td>\n      <td>A cryptic message from Bond’s past sends him o...</td>\n      <td>[Action, Adventure, Crime]</td>\n      <td>[{\"id\": 470, \"name\": \"spy\"}, {\"id\": 818, \"name...</td>\n      <td>[{\"cast_id\": 1, \"character\": \"James Bond\", \"cr...</td>\n      <td>[{\"credit_id\": \"54805967c3a36829b5002c41\", \"de...</td>\n    </tr>\n    <tr>\n      <th>3</th>\n      <td>49026</td>\n      <td>The Dark Knight Rises</td>\n      <td>Following the death of District Attorney Harve...</td>\n      <td>[Action, Crime, Drama, Thriller]</td>\n      <td>[{\"id\": 849, \"name\": \"dc comics\"}, {\"id\": 853,...</td>\n      <td>[{\"cast_id\": 2, \"character\": \"Bruce Wayne / Ba...</td>\n      <td>[{\"credit_id\": \"52fe4781c3a36847f81398c3\", \"de...</td>\n    </tr>\n    <tr>\n      <th>4</th>\n      <td>49529</td>\n      <td>John Carter</td>\n      <td>John Carter is a war-weary, former military ca...</td>\n      <td>[Action, Adventure, Science Fiction]</td>\n      <td>[{\"id\": 818, \"name\": \"based on novel\"}, {\"id\":...</td>\n      <td>[{\"cast_id\": 5, \"character\": \"John Carter\", \"c...</td>\n      <td>[{\"credit_id\": \"52fe479ac3a36847f813eaa3\", \"de...</td>\n    </tr>\n  </tbody>\n</table>\n</div>"
     },
     "execution_count": 80,
     "metadata": {},
     "output_type": "execute_result"
    }
   ]
  },
  {
   "cell_type": "code",
   "source": [
    "movies['keywords'] = movies['keywords'].apply(convert)\n",
    "movies.head()"
   ],
   "metadata": {
    "execution": {
     "iopub.status.busy": "2021-06-21T12:36:55.304070Z",
     "iopub.execute_input": "2021-06-21T12:36:55.304439Z",
     "iopub.status.idle": "2021-06-21T12:36:55.738525Z",
     "shell.execute_reply.started": "2021-06-21T12:36:55.304408Z",
     "shell.execute_reply": "2021-06-21T12:36:55.737123Z"
    },
    "trusted": true,
    "ExecuteTime": {
     "end_time": "2023-08-26T03:15:09.343375500Z",
     "start_time": "2023-08-26T03:15:08.894247900Z"
    }
   },
   "execution_count": 81,
   "outputs": [
    {
     "data": {
      "text/plain": "   movie_id                                     title  \\\n0     19995                                    Avatar   \n1       285  Pirates of the Caribbean: At World's End   \n2    206647                                   Spectre   \n3     49026                     The Dark Knight Rises   \n4     49529                               John Carter   \n\n                                            overview  \\\n0  In the 22nd century, a paraplegic Marine is di...   \n1  Captain Barbossa, long believed to be dead, ha...   \n2  A cryptic message from Bond’s past sends him o...   \n3  Following the death of District Attorney Harve...   \n4  John Carter is a war-weary, former military ca...   \n\n                                          genres  \\\n0  [Action, Adventure, Fantasy, Science Fiction]   \n1                   [Adventure, Fantasy, Action]   \n2                     [Action, Adventure, Crime]   \n3               [Action, Crime, Drama, Thriller]   \n4           [Action, Adventure, Science Fiction]   \n\n                                            keywords  \\\n0  [culture clash, future, space war, space colon...   \n1  [ocean, drug abuse, exotic island, east india ...   \n2  [spy, based on novel, secret agent, sequel, mi...   \n3  [dc comics, crime fighter, terrorist, secret i...   \n4  [based on novel, mars, medallion, space travel...   \n\n                                                cast  \\\n0  [{\"cast_id\": 242, \"character\": \"Jake Sully\", \"...   \n1  [{\"cast_id\": 4, \"character\": \"Captain Jack Spa...   \n2  [{\"cast_id\": 1, \"character\": \"James Bond\", \"cr...   \n3  [{\"cast_id\": 2, \"character\": \"Bruce Wayne / Ba...   \n4  [{\"cast_id\": 5, \"character\": \"John Carter\", \"c...   \n\n                                                crew  \n0  [{\"credit_id\": \"52fe48009251416c750aca23\", \"de...  \n1  [{\"credit_id\": \"52fe4232c3a36847f800b579\", \"de...  \n2  [{\"credit_id\": \"54805967c3a36829b5002c41\", \"de...  \n3  [{\"credit_id\": \"52fe4781c3a36847f81398c3\", \"de...  \n4  [{\"credit_id\": \"52fe479ac3a36847f813eaa3\", \"de...  ",
      "text/html": "<div>\n<style scoped>\n    .dataframe tbody tr th:only-of-type {\n        vertical-align: middle;\n    }\n\n    .dataframe tbody tr th {\n        vertical-align: top;\n    }\n\n    .dataframe thead th {\n        text-align: right;\n    }\n</style>\n<table border=\"1\" class=\"dataframe\">\n  <thead>\n    <tr style=\"text-align: right;\">\n      <th></th>\n      <th>movie_id</th>\n      <th>title</th>\n      <th>overview</th>\n      <th>genres</th>\n      <th>keywords</th>\n      <th>cast</th>\n      <th>crew</th>\n    </tr>\n  </thead>\n  <tbody>\n    <tr>\n      <th>0</th>\n      <td>19995</td>\n      <td>Avatar</td>\n      <td>In the 22nd century, a paraplegic Marine is di...</td>\n      <td>[Action, Adventure, Fantasy, Science Fiction]</td>\n      <td>[culture clash, future, space war, space colon...</td>\n      <td>[{\"cast_id\": 242, \"character\": \"Jake Sully\", \"...</td>\n      <td>[{\"credit_id\": \"52fe48009251416c750aca23\", \"de...</td>\n    </tr>\n    <tr>\n      <th>1</th>\n      <td>285</td>\n      <td>Pirates of the Caribbean: At World's End</td>\n      <td>Captain Barbossa, long believed to be dead, ha...</td>\n      <td>[Adventure, Fantasy, Action]</td>\n      <td>[ocean, drug abuse, exotic island, east india ...</td>\n      <td>[{\"cast_id\": 4, \"character\": \"Captain Jack Spa...</td>\n      <td>[{\"credit_id\": \"52fe4232c3a36847f800b579\", \"de...</td>\n    </tr>\n    <tr>\n      <th>2</th>\n      <td>206647</td>\n      <td>Spectre</td>\n      <td>A cryptic message from Bond’s past sends him o...</td>\n      <td>[Action, Adventure, Crime]</td>\n      <td>[spy, based on novel, secret agent, sequel, mi...</td>\n      <td>[{\"cast_id\": 1, \"character\": \"James Bond\", \"cr...</td>\n      <td>[{\"credit_id\": \"54805967c3a36829b5002c41\", \"de...</td>\n    </tr>\n    <tr>\n      <th>3</th>\n      <td>49026</td>\n      <td>The Dark Knight Rises</td>\n      <td>Following the death of District Attorney Harve...</td>\n      <td>[Action, Crime, Drama, Thriller]</td>\n      <td>[dc comics, crime fighter, terrorist, secret i...</td>\n      <td>[{\"cast_id\": 2, \"character\": \"Bruce Wayne / Ba...</td>\n      <td>[{\"credit_id\": \"52fe4781c3a36847f81398c3\", \"de...</td>\n    </tr>\n    <tr>\n      <th>4</th>\n      <td>49529</td>\n      <td>John Carter</td>\n      <td>John Carter is a war-weary, former military ca...</td>\n      <td>[Action, Adventure, Science Fiction]</td>\n      <td>[based on novel, mars, medallion, space travel...</td>\n      <td>[{\"cast_id\": 5, \"character\": \"John Carter\", \"c...</td>\n      <td>[{\"credit_id\": \"52fe479ac3a36847f813eaa3\", \"de...</td>\n    </tr>\n  </tbody>\n</table>\n</div>"
     },
     "execution_count": 81,
     "metadata": {},
     "output_type": "execute_result"
    }
   ]
  },
  {
   "cell_type": "code",
   "source": [
    "import ast\n",
    "ast.literal_eval('[{\"id\": 28, \"name\": \"Action\"}, {\"id\": 12, \"name\": \"Adventure\"}, {\"id\": 14, \"name\": \"Fantasy\"}, {\"id\": 878, \"name\": \"Science Fiction\"}]')"
   ],
   "metadata": {
    "execution": {
     "iopub.status.busy": "2021-06-19T13:07:21.572154Z",
     "iopub.execute_input": "2021-06-19T13:07:21.572473Z",
     "iopub.status.idle": "2021-06-19T13:07:21.578686Z",
     "shell.execute_reply.started": "2021-06-19T13:07:21.572446Z",
     "shell.execute_reply": "2021-06-19T13:07:21.577661Z"
    },
    "trusted": true,
    "ExecuteTime": {
     "end_time": "2023-08-26T03:15:09.343880800Z",
     "start_time": "2023-08-26T03:15:09.219677300Z"
    }
   },
   "execution_count": 82,
   "outputs": [
    {
     "data": {
      "text/plain": "[{'id': 28, 'name': 'Action'},\n {'id': 12, 'name': 'Adventure'},\n {'id': 14, 'name': 'Fantasy'},\n {'id': 878, 'name': 'Science Fiction'}]"
     },
     "execution_count": 82,
     "metadata": {},
     "output_type": "execute_result"
    }
   ]
  },
  {
   "cell_type": "code",
   "source": [
    "def convert3(text):\n",
    "    L = []\n",
    "    counter = 0\n",
    "    for i in ast.literal_eval(text):\n",
    "        if counter < 3:\n",
    "            L.append(i['name'])\n",
    "        counter+=1\n",
    "    return L "
   ],
   "metadata": {
    "execution": {
     "iopub.status.busy": "2021-06-21T12:36:59.510859Z",
     "iopub.execute_input": "2021-06-21T12:36:59.511226Z",
     "iopub.status.idle": "2021-06-21T12:36:59.517043Z",
     "shell.execute_reply.started": "2021-06-21T12:36:59.511192Z",
     "shell.execute_reply": "2021-06-21T12:36:59.515878Z"
    },
    "trusted": true,
    "ExecuteTime": {
     "end_time": "2023-08-26T03:15:09.343880800Z",
     "start_time": "2023-08-26T03:15:09.224630300Z"
    }
   },
   "execution_count": 83,
   "outputs": []
  },
  {
   "cell_type": "code",
   "source": [
    "movies['cast'] = movies['cast'].apply(convert)\n",
    "movies.head()"
   ],
   "metadata": {
    "execution": {
     "iopub.status.busy": "2021-06-21T12:37:00.828661Z",
     "iopub.execute_input": "2021-06-21T12:37:00.829409Z",
     "iopub.status.idle": "2021-06-21T12:37:04.117090Z",
     "shell.execute_reply.started": "2021-06-21T12:37:00.829355Z",
     "shell.execute_reply": "2021-06-21T12:37:04.115822Z"
    },
    "trusted": true,
    "ExecuteTime": {
     "end_time": "2023-08-26T03:15:12.236383100Z",
     "start_time": "2023-08-26T03:15:09.231829300Z"
    }
   },
   "execution_count": 84,
   "outputs": [
    {
     "data": {
      "text/plain": "   movie_id                                     title  \\\n0     19995                                    Avatar   \n1       285  Pirates of the Caribbean: At World's End   \n2    206647                                   Spectre   \n3     49026                     The Dark Knight Rises   \n4     49529                               John Carter   \n\n                                            overview  \\\n0  In the 22nd century, a paraplegic Marine is di...   \n1  Captain Barbossa, long believed to be dead, ha...   \n2  A cryptic message from Bond’s past sends him o...   \n3  Following the death of District Attorney Harve...   \n4  John Carter is a war-weary, former military ca...   \n\n                                          genres  \\\n0  [Action, Adventure, Fantasy, Science Fiction]   \n1                   [Adventure, Fantasy, Action]   \n2                     [Action, Adventure, Crime]   \n3               [Action, Crime, Drama, Thriller]   \n4           [Action, Adventure, Science Fiction]   \n\n                                            keywords  \\\n0  [culture clash, future, space war, space colon...   \n1  [ocean, drug abuse, exotic island, east india ...   \n2  [spy, based on novel, secret agent, sequel, mi...   \n3  [dc comics, crime fighter, terrorist, secret i...   \n4  [based on novel, mars, medallion, space travel...   \n\n                                                cast  \\\n0  [Sam Worthington, Zoe Saldana, Sigourney Weave...   \n1  [Johnny Depp, Orlando Bloom, Keira Knightley, ...   \n2  [Daniel Craig, Christoph Waltz, Léa Seydoux, R...   \n3  [Christian Bale, Michael Caine, Gary Oldman, A...   \n4  [Taylor Kitsch, Lynn Collins, Samantha Morton,...   \n\n                                                crew  \n0  [{\"credit_id\": \"52fe48009251416c750aca23\", \"de...  \n1  [{\"credit_id\": \"52fe4232c3a36847f800b579\", \"de...  \n2  [{\"credit_id\": \"54805967c3a36829b5002c41\", \"de...  \n3  [{\"credit_id\": \"52fe4781c3a36847f81398c3\", \"de...  \n4  [{\"credit_id\": \"52fe479ac3a36847f813eaa3\", \"de...  ",
      "text/html": "<div>\n<style scoped>\n    .dataframe tbody tr th:only-of-type {\n        vertical-align: middle;\n    }\n\n    .dataframe tbody tr th {\n        vertical-align: top;\n    }\n\n    .dataframe thead th {\n        text-align: right;\n    }\n</style>\n<table border=\"1\" class=\"dataframe\">\n  <thead>\n    <tr style=\"text-align: right;\">\n      <th></th>\n      <th>movie_id</th>\n      <th>title</th>\n      <th>overview</th>\n      <th>genres</th>\n      <th>keywords</th>\n      <th>cast</th>\n      <th>crew</th>\n    </tr>\n  </thead>\n  <tbody>\n    <tr>\n      <th>0</th>\n      <td>19995</td>\n      <td>Avatar</td>\n      <td>In the 22nd century, a paraplegic Marine is di...</td>\n      <td>[Action, Adventure, Fantasy, Science Fiction]</td>\n      <td>[culture clash, future, space war, space colon...</td>\n      <td>[Sam Worthington, Zoe Saldana, Sigourney Weave...</td>\n      <td>[{\"credit_id\": \"52fe48009251416c750aca23\", \"de...</td>\n    </tr>\n    <tr>\n      <th>1</th>\n      <td>285</td>\n      <td>Pirates of the Caribbean: At World's End</td>\n      <td>Captain Barbossa, long believed to be dead, ha...</td>\n      <td>[Adventure, Fantasy, Action]</td>\n      <td>[ocean, drug abuse, exotic island, east india ...</td>\n      <td>[Johnny Depp, Orlando Bloom, Keira Knightley, ...</td>\n      <td>[{\"credit_id\": \"52fe4232c3a36847f800b579\", \"de...</td>\n    </tr>\n    <tr>\n      <th>2</th>\n      <td>206647</td>\n      <td>Spectre</td>\n      <td>A cryptic message from Bond’s past sends him o...</td>\n      <td>[Action, Adventure, Crime]</td>\n      <td>[spy, based on novel, secret agent, sequel, mi...</td>\n      <td>[Daniel Craig, Christoph Waltz, Léa Seydoux, R...</td>\n      <td>[{\"credit_id\": \"54805967c3a36829b5002c41\", \"de...</td>\n    </tr>\n    <tr>\n      <th>3</th>\n      <td>49026</td>\n      <td>The Dark Knight Rises</td>\n      <td>Following the death of District Attorney Harve...</td>\n      <td>[Action, Crime, Drama, Thriller]</td>\n      <td>[dc comics, crime fighter, terrorist, secret i...</td>\n      <td>[Christian Bale, Michael Caine, Gary Oldman, A...</td>\n      <td>[{\"credit_id\": \"52fe4781c3a36847f81398c3\", \"de...</td>\n    </tr>\n    <tr>\n      <th>4</th>\n      <td>49529</td>\n      <td>John Carter</td>\n      <td>John Carter is a war-weary, former military ca...</td>\n      <td>[Action, Adventure, Science Fiction]</td>\n      <td>[based on novel, mars, medallion, space travel...</td>\n      <td>[Taylor Kitsch, Lynn Collins, Samantha Morton,...</td>\n      <td>[{\"credit_id\": \"52fe479ac3a36847f813eaa3\", \"de...</td>\n    </tr>\n  </tbody>\n</table>\n</div>"
     },
     "execution_count": 84,
     "metadata": {},
     "output_type": "execute_result"
    }
   ]
  },
  {
   "cell_type": "code",
   "source": [
    "movies['cast'] = movies['cast'].apply(lambda x:x[0:3])"
   ],
   "metadata": {
    "execution": {
     "iopub.status.busy": "2021-06-21T12:37:07.352464Z",
     "iopub.execute_input": "2021-06-21T12:37:07.352886Z",
     "iopub.status.idle": "2021-06-21T12:37:07.367808Z",
     "shell.execute_reply.started": "2021-06-21T12:37:07.352854Z",
     "shell.execute_reply": "2021-06-21T12:37:07.366250Z"
    },
    "trusted": true,
    "ExecuteTime": {
     "end_time": "2023-08-26T03:15:12.236905Z",
     "start_time": "2023-08-26T03:15:12.234674200Z"
    }
   },
   "execution_count": 85,
   "outputs": []
  },
  {
   "cell_type": "code",
   "source": [
    "def fetch_director(text):\n",
    "    L = []\n",
    "    for i in ast.literal_eval(text):\n",
    "        if i['job'] == 'Director':\n",
    "            L.append(i['name'])\n",
    "    return L "
   ],
   "metadata": {
    "execution": {
     "iopub.status.busy": "2021-06-21T12:37:09.762909Z",
     "iopub.execute_input": "2021-06-21T12:37:09.763317Z",
     "iopub.status.idle": "2021-06-21T12:37:09.770917Z",
     "shell.execute_reply.started": "2021-06-21T12:37:09.763278Z",
     "shell.execute_reply": "2021-06-21T12:37:09.770002Z"
    },
    "trusted": true,
    "ExecuteTime": {
     "end_time": "2023-08-26T03:15:12.252118800Z",
     "start_time": "2023-08-26T03:15:12.239925100Z"
    }
   },
   "execution_count": 86,
   "outputs": []
  },
  {
   "cell_type": "code",
   "source": [
    "movies['crew'] = movies['crew'].apply(fetch_director)"
   ],
   "metadata": {
    "execution": {
     "iopub.status.busy": "2021-06-21T12:37:12.189921Z",
     "iopub.execute_input": "2021-06-21T12:37:12.190468Z",
     "iopub.status.idle": "2021-06-21T12:37:15.825662Z",
     "shell.execute_reply.started": "2021-06-21T12:37:12.190407Z",
     "shell.execute_reply": "2021-06-21T12:37:15.824562Z"
    },
    "trusted": true,
    "ExecuteTime": {
     "end_time": "2023-08-26T03:15:15.244637500Z",
     "start_time": "2023-08-26T03:15:12.241558100Z"
    }
   },
   "execution_count": 87,
   "outputs": []
  },
  {
   "cell_type": "code",
   "source": [
    "#movies['overview'] = movies['overview'].apply(lambda x:x.split())\n",
    "movies.sample(5)"
   ],
   "metadata": {
    "execution": {
     "iopub.status.busy": "2021-06-21T12:34:54.994397Z",
     "iopub.execute_input": "2021-06-21T12:34:54.994779Z",
     "iopub.status.idle": "2021-06-21T12:34:55.019276Z",
     "shell.execute_reply.started": "2021-06-21T12:34:54.994738Z",
     "shell.execute_reply": "2021-06-21T12:34:55.017718Z"
    },
    "trusted": true,
    "ExecuteTime": {
     "end_time": "2023-08-26T03:15:15.269001700Z",
     "start_time": "2023-08-26T03:15:15.263880400Z"
    }
   },
   "execution_count": 88,
   "outputs": [
    {
     "data": {
      "text/plain": "      movie_id                         title  \\\n2923     12094            Jackass Number Two   \n2294    385383                  Fight Valley   \n2388    193613  Metallica: Through the Never   \n3445       338              Good bye, Lenin!   \n257      39254                    Real Steel   \n\n                                               overview  \\\n2923  Jackass Number Two is a compilation of various...   \n2294  When Tory Coro turns up dead, the neighborhood...   \n2388  Trip, a young roadie for Metallica, is sent on...   \n3445  An affectionate and refreshing East/West-Germa...   \n257   In the near-future, Charlie Kenton is a washed...   \n\n                                genres  \\\n2923     [Action, Comedy, Documentary]   \n2294                   [Action, Drama]   \n2388                           [Music]   \n3445          [Comedy, Drama, Romance]   \n257   [Action, Science Fiction, Drama]   \n\n                                               keywords  \\\n2923  [wound, disgust, pain, stunts, stuntman, stupi...   \n2294  [new jersey, martial arts, sister, sport, murd...   \n2388                        [heavy metal, live concert]   \n3445  [bureaucracy, berlin wall, police state, coma,...   \n257   [father son relationship, fight, sport, robot,...   \n\n                                                cast               crew  \n2923        [Johnny Knoxville, Bam Margera, Steve-O]    [Jeff Tremaine]  \n2294         [Erin O'Brien, Miesha Tate, Holly Holm]         [Rob Hawk]  \n2388   [Dane DeHaan, Mackenzie Gray, James Hetfield]     [Nimród Antal]  \n3445  [Daniel Brühl, Katrin Sass, Chulpan Khamatova]  [Wolfgang Becker]  \n257    [Hugh Jackman, Dakota Goyo, Evangeline Lilly]       [Shawn Levy]  ",
      "text/html": "<div>\n<style scoped>\n    .dataframe tbody tr th:only-of-type {\n        vertical-align: middle;\n    }\n\n    .dataframe tbody tr th {\n        vertical-align: top;\n    }\n\n    .dataframe thead th {\n        text-align: right;\n    }\n</style>\n<table border=\"1\" class=\"dataframe\">\n  <thead>\n    <tr style=\"text-align: right;\">\n      <th></th>\n      <th>movie_id</th>\n      <th>title</th>\n      <th>overview</th>\n      <th>genres</th>\n      <th>keywords</th>\n      <th>cast</th>\n      <th>crew</th>\n    </tr>\n  </thead>\n  <tbody>\n    <tr>\n      <th>2923</th>\n      <td>12094</td>\n      <td>Jackass Number Two</td>\n      <td>Jackass Number Two is a compilation of various...</td>\n      <td>[Action, Comedy, Documentary]</td>\n      <td>[wound, disgust, pain, stunts, stuntman, stupi...</td>\n      <td>[Johnny Knoxville, Bam Margera, Steve-O]</td>\n      <td>[Jeff Tremaine]</td>\n    </tr>\n    <tr>\n      <th>2294</th>\n      <td>385383</td>\n      <td>Fight Valley</td>\n      <td>When Tory Coro turns up dead, the neighborhood...</td>\n      <td>[Action, Drama]</td>\n      <td>[new jersey, martial arts, sister, sport, murd...</td>\n      <td>[Erin O'Brien, Miesha Tate, Holly Holm]</td>\n      <td>[Rob Hawk]</td>\n    </tr>\n    <tr>\n      <th>2388</th>\n      <td>193613</td>\n      <td>Metallica: Through the Never</td>\n      <td>Trip, a young roadie for Metallica, is sent on...</td>\n      <td>[Music]</td>\n      <td>[heavy metal, live concert]</td>\n      <td>[Dane DeHaan, Mackenzie Gray, James Hetfield]</td>\n      <td>[Nimród Antal]</td>\n    </tr>\n    <tr>\n      <th>3445</th>\n      <td>338</td>\n      <td>Good bye, Lenin!</td>\n      <td>An affectionate and refreshing East/West-Germa...</td>\n      <td>[Comedy, Drama, Romance]</td>\n      <td>[bureaucracy, berlin wall, police state, coma,...</td>\n      <td>[Daniel Brühl, Katrin Sass, Chulpan Khamatova]</td>\n      <td>[Wolfgang Becker]</td>\n    </tr>\n    <tr>\n      <th>257</th>\n      <td>39254</td>\n      <td>Real Steel</td>\n      <td>In the near-future, Charlie Kenton is a washed...</td>\n      <td>[Action, Science Fiction, Drama]</td>\n      <td>[father son relationship, fight, sport, robot,...</td>\n      <td>[Hugh Jackman, Dakota Goyo, Evangeline Lilly]</td>\n      <td>[Shawn Levy]</td>\n    </tr>\n  </tbody>\n</table>\n</div>"
     },
     "execution_count": 88,
     "metadata": {},
     "output_type": "execute_result"
    }
   ]
  },
  {
   "cell_type": "code",
   "source": [
    "def collapse(L):\n",
    "    L1 = []\n",
    "    for i in L:\n",
    "        L1.append(i.replace(\" \",\"\"))\n",
    "    return L1"
   ],
   "metadata": {
    "execution": {
     "iopub.status.busy": "2021-06-21T12:37:20.072749Z",
     "iopub.execute_input": "2021-06-21T12:37:20.073320Z",
     "iopub.status.idle": "2021-06-21T12:37:20.079118Z",
     "shell.execute_reply.started": "2021-06-21T12:37:20.073270Z",
     "shell.execute_reply": "2021-06-21T12:37:20.077997Z"
    },
    "trusted": true,
    "ExecuteTime": {
     "end_time": "2023-08-26T03:15:15.281540400Z",
     "start_time": "2023-08-26T03:15:15.267996600Z"
    }
   },
   "execution_count": 89,
   "outputs": []
  },
  {
   "cell_type": "code",
   "source": [
    "movies['cast'] = movies['cast'].apply(collapse)\n",
    "movies['crew'] = movies['crew'].apply(collapse)\n",
    "movies['genres'] = movies['genres'].apply(collapse)\n",
    "movies['keywords'] = movies['keywords'].apply(collapse)"
   ],
   "metadata": {
    "execution": {
     "iopub.status.busy": "2021-06-21T12:37:21.282768Z",
     "iopub.execute_input": "2021-06-21T12:37:21.283329Z",
     "iopub.status.idle": "2021-06-21T12:37:21.486755Z",
     "shell.execute_reply.started": "2021-06-21T12:37:21.283292Z",
     "shell.execute_reply": "2021-06-21T12:37:21.485878Z"
    },
    "trusted": true,
    "ExecuteTime": {
     "end_time": "2023-08-26T03:15:15.342496100Z",
     "start_time": "2023-08-26T03:15:15.273890300Z"
    }
   },
   "execution_count": 90,
   "outputs": []
  },
  {
   "cell_type": "code",
   "source": [
    "movies.head()"
   ],
   "metadata": {
    "execution": {
     "iopub.status.busy": "2021-06-21T12:35:23.278025Z",
     "iopub.execute_input": "2021-06-21T12:35:23.278589Z",
     "iopub.status.idle": "2021-06-21T12:35:23.311346Z",
     "shell.execute_reply.started": "2021-06-21T12:35:23.278539Z",
     "shell.execute_reply": "2021-06-21T12:35:23.309971Z"
    },
    "trusted": true,
    "ExecuteTime": {
     "end_time": "2023-08-26T03:15:15.397026400Z",
     "start_time": "2023-08-26T03:15:15.298133500Z"
    }
   },
   "execution_count": 91,
   "outputs": [
    {
     "data": {
      "text/plain": "   movie_id                                     title  \\\n0     19995                                    Avatar   \n1       285  Pirates of the Caribbean: At World's End   \n2    206647                                   Spectre   \n3     49026                     The Dark Knight Rises   \n4     49529                               John Carter   \n\n                                            overview  \\\n0  In the 22nd century, a paraplegic Marine is di...   \n1  Captain Barbossa, long believed to be dead, ha...   \n2  A cryptic message from Bond’s past sends him o...   \n3  Following the death of District Attorney Harve...   \n4  John Carter is a war-weary, former military ca...   \n\n                                         genres  \\\n0  [Action, Adventure, Fantasy, ScienceFiction]   \n1                  [Adventure, Fantasy, Action]   \n2                    [Action, Adventure, Crime]   \n3              [Action, Crime, Drama, Thriller]   \n4           [Action, Adventure, ScienceFiction]   \n\n                                            keywords  \\\n0  [cultureclash, future, spacewar, spacecolony, ...   \n1  [ocean, drugabuse, exoticisland, eastindiatrad...   \n2  [spy, basedonnovel, secretagent, sequel, mi6, ...   \n3  [dccomics, crimefighter, terrorist, secretiden...   \n4  [basedonnovel, mars, medallion, spacetravel, p...   \n\n                                            cast                crew  \n0  [SamWorthington, ZoeSaldana, SigourneyWeaver]      [JamesCameron]  \n1     [JohnnyDepp, OrlandoBloom, KeiraKnightley]     [GoreVerbinski]  \n2      [DanielCraig, ChristophWaltz, LéaSeydoux]         [SamMendes]  \n3      [ChristianBale, MichaelCaine, GaryOldman]  [ChristopherNolan]  \n4    [TaylorKitsch, LynnCollins, SamanthaMorton]     [AndrewStanton]  ",
      "text/html": "<div>\n<style scoped>\n    .dataframe tbody tr th:only-of-type {\n        vertical-align: middle;\n    }\n\n    .dataframe tbody tr th {\n        vertical-align: top;\n    }\n\n    .dataframe thead th {\n        text-align: right;\n    }\n</style>\n<table border=\"1\" class=\"dataframe\">\n  <thead>\n    <tr style=\"text-align: right;\">\n      <th></th>\n      <th>movie_id</th>\n      <th>title</th>\n      <th>overview</th>\n      <th>genres</th>\n      <th>keywords</th>\n      <th>cast</th>\n      <th>crew</th>\n    </tr>\n  </thead>\n  <tbody>\n    <tr>\n      <th>0</th>\n      <td>19995</td>\n      <td>Avatar</td>\n      <td>In the 22nd century, a paraplegic Marine is di...</td>\n      <td>[Action, Adventure, Fantasy, ScienceFiction]</td>\n      <td>[cultureclash, future, spacewar, spacecolony, ...</td>\n      <td>[SamWorthington, ZoeSaldana, SigourneyWeaver]</td>\n      <td>[JamesCameron]</td>\n    </tr>\n    <tr>\n      <th>1</th>\n      <td>285</td>\n      <td>Pirates of the Caribbean: At World's End</td>\n      <td>Captain Barbossa, long believed to be dead, ha...</td>\n      <td>[Adventure, Fantasy, Action]</td>\n      <td>[ocean, drugabuse, exoticisland, eastindiatrad...</td>\n      <td>[JohnnyDepp, OrlandoBloom, KeiraKnightley]</td>\n      <td>[GoreVerbinski]</td>\n    </tr>\n    <tr>\n      <th>2</th>\n      <td>206647</td>\n      <td>Spectre</td>\n      <td>A cryptic message from Bond’s past sends him o...</td>\n      <td>[Action, Adventure, Crime]</td>\n      <td>[spy, basedonnovel, secretagent, sequel, mi6, ...</td>\n      <td>[DanielCraig, ChristophWaltz, LéaSeydoux]</td>\n      <td>[SamMendes]</td>\n    </tr>\n    <tr>\n      <th>3</th>\n      <td>49026</td>\n      <td>The Dark Knight Rises</td>\n      <td>Following the death of District Attorney Harve...</td>\n      <td>[Action, Crime, Drama, Thriller]</td>\n      <td>[dccomics, crimefighter, terrorist, secretiden...</td>\n      <td>[ChristianBale, MichaelCaine, GaryOldman]</td>\n      <td>[ChristopherNolan]</td>\n    </tr>\n    <tr>\n      <th>4</th>\n      <td>49529</td>\n      <td>John Carter</td>\n      <td>John Carter is a war-weary, former military ca...</td>\n      <td>[Action, Adventure, ScienceFiction]</td>\n      <td>[basedonnovel, mars, medallion, spacetravel, p...</td>\n      <td>[TaylorKitsch, LynnCollins, SamanthaMorton]</td>\n      <td>[AndrewStanton]</td>\n    </tr>\n  </tbody>\n</table>\n</div>"
     },
     "execution_count": 91,
     "metadata": {},
     "output_type": "execute_result"
    }
   ]
  },
  {
   "cell_type": "code",
   "source": [
    "movies['overview'] = movies['overview'].apply(lambda x:x.split())"
   ],
   "metadata": {
    "execution": {
     "iopub.status.busy": "2021-06-21T12:37:31.936003Z",
     "iopub.execute_input": "2021-06-21T12:37:31.936583Z",
     "iopub.status.idle": "2021-06-21T12:37:31.975155Z",
     "shell.execute_reply.started": "2021-06-21T12:37:31.936546Z",
     "shell.execute_reply": "2021-06-21T12:37:31.973928Z"
    },
    "trusted": true,
    "ExecuteTime": {
     "end_time": "2023-08-26T03:15:15.421659400Z",
     "start_time": "2023-08-26T03:15:15.311802200Z"
    }
   },
   "execution_count": 92,
   "outputs": []
  },
  {
   "cell_type": "code",
   "source": [
    "movies['tags'] = movies['overview'] + movies['genres'] + movies['keywords'] + movies['cast'] + movies['crew']"
   ],
   "metadata": {
    "execution": {
     "iopub.status.busy": "2021-06-21T12:37:34.465925Z",
     "iopub.execute_input": "2021-06-21T12:37:34.466349Z",
     "iopub.status.idle": "2021-06-21T12:37:34.572742Z",
     "shell.execute_reply.started": "2021-06-21T12:37:34.466313Z",
     "shell.execute_reply": "2021-06-21T12:37:34.571676Z"
    },
    "trusted": true,
    "ExecuteTime": {
     "end_time": "2023-08-26T03:15:15.487369Z",
     "start_time": "2023-08-26T03:15:15.337123700Z"
    }
   },
   "execution_count": 93,
   "outputs": []
  },
  {
   "cell_type": "code",
   "source": [
    "new = movies.drop(columns=['overview','genres','keywords','cast','crew'])\n",
    "#new.head()"
   ],
   "metadata": {
    "execution": {
     "iopub.status.busy": "2021-06-21T12:37:40.974644Z",
     "iopub.execute_input": "2021-06-21T12:37:40.975174Z",
     "iopub.status.idle": "2021-06-21T12:37:40.981843Z",
     "shell.execute_reply.started": "2021-06-21T12:37:40.975140Z",
     "shell.execute_reply": "2021-06-21T12:37:40.981059Z"
    },
    "trusted": true,
    "ExecuteTime": {
     "end_time": "2023-08-26T03:15:15.487369Z",
     "start_time": "2023-08-26T03:15:15.416791900Z"
    }
   },
   "execution_count": 94,
   "outputs": []
  },
  {
   "cell_type": "code",
   "source": [
    "new['tags'] = new['tags'].apply(lambda x: \" \".join(x))\n",
    "new.head()"
   ],
   "metadata": {
    "execution": {
     "iopub.status.busy": "2021-06-21T12:38:00.130879Z",
     "iopub.execute_input": "2021-06-21T12:38:00.131473Z",
     "iopub.status.idle": "2021-06-21T12:38:00.160438Z",
     "shell.execute_reply.started": "2021-06-21T12:38:00.131439Z",
     "shell.execute_reply": "2021-06-21T12:38:00.159476Z"
    },
    "trusted": true,
    "ExecuteTime": {
     "end_time": "2023-08-26T03:15:15.492586700Z",
     "start_time": "2023-08-26T03:15:15.429076900Z"
    }
   },
   "execution_count": 95,
   "outputs": [
    {
     "data": {
      "text/plain": "   movie_id                                     title  \\\n0     19995                                    Avatar   \n1       285  Pirates of the Caribbean: At World's End   \n2    206647                                   Spectre   \n3     49026                     The Dark Knight Rises   \n4     49529                               John Carter   \n\n                                                tags  \n0  In the 22nd century, a paraplegic Marine is di...  \n1  Captain Barbossa, long believed to be dead, ha...  \n2  A cryptic message from Bond’s past sends him o...  \n3  Following the death of District Attorney Harve...  \n4  John Carter is a war-weary, former military ca...  ",
      "text/html": "<div>\n<style scoped>\n    .dataframe tbody tr th:only-of-type {\n        vertical-align: middle;\n    }\n\n    .dataframe tbody tr th {\n        vertical-align: top;\n    }\n\n    .dataframe thead th {\n        text-align: right;\n    }\n</style>\n<table border=\"1\" class=\"dataframe\">\n  <thead>\n    <tr style=\"text-align: right;\">\n      <th></th>\n      <th>movie_id</th>\n      <th>title</th>\n      <th>tags</th>\n    </tr>\n  </thead>\n  <tbody>\n    <tr>\n      <th>0</th>\n      <td>19995</td>\n      <td>Avatar</td>\n      <td>In the 22nd century, a paraplegic Marine is di...</td>\n    </tr>\n    <tr>\n      <th>1</th>\n      <td>285</td>\n      <td>Pirates of the Caribbean: At World's End</td>\n      <td>Captain Barbossa, long believed to be dead, ha...</td>\n    </tr>\n    <tr>\n      <th>2</th>\n      <td>206647</td>\n      <td>Spectre</td>\n      <td>A cryptic message from Bond’s past sends him o...</td>\n    </tr>\n    <tr>\n      <th>3</th>\n      <td>49026</td>\n      <td>The Dark Knight Rises</td>\n      <td>Following the death of District Attorney Harve...</td>\n    </tr>\n    <tr>\n      <th>4</th>\n      <td>49529</td>\n      <td>John Carter</td>\n      <td>John Carter is a war-weary, former military ca...</td>\n    </tr>\n  </tbody>\n</table>\n</div>"
     },
     "execution_count": 95,
     "metadata": {},
     "output_type": "execute_result"
    }
   ]
  },
  {
   "cell_type": "code",
   "execution_count": 96,
   "outputs": [],
   "source": [
    "# import nltk"
   ],
   "metadata": {
    "collapsed": false,
    "ExecuteTime": {
     "end_time": "2023-08-26T03:15:15.507383600Z",
     "start_time": "2023-08-26T03:15:15.451239700Z"
    }
   }
  },
  {
   "cell_type": "code",
   "execution_count": 97,
   "outputs": [],
   "source": [
    "# from nltk.stem.porter import PorterStemmer\n",
    "# ps = PorterStemmer()"
   ],
   "metadata": {
    "collapsed": false,
    "ExecuteTime": {
     "end_time": "2023-08-26T03:15:15.507383600Z",
     "start_time": "2023-08-26T03:15:15.453402700Z"
    }
   }
  },
  {
   "cell_type": "code",
   "execution_count": 98,
   "outputs": [],
   "source": [
    "# def stem(text):\n",
    "#     y = []\n",
    "#     for i in text.split():\n",
    "#         ps.stem(i)\n",
    "#     return \" \".join(y)"
   ],
   "metadata": {
    "collapsed": false,
    "ExecuteTime": {
     "end_time": "2023-08-26T03:15:15.540345800Z",
     "start_time": "2023-08-26T03:15:15.459027700Z"
    }
   }
  },
  {
   "cell_type": "code",
   "execution_count": 99,
   "outputs": [],
   "source": [
    "# new['tags'].apply(stem)"
   ],
   "metadata": {
    "collapsed": false,
    "ExecuteTime": {
     "end_time": "2023-08-26T03:15:15.560846600Z",
     "start_time": "2023-08-26T03:15:15.465310200Z"
    }
   }
  },
  {
   "cell_type": "code",
   "execution_count": 100,
   "outputs": [
    {
     "data": {
      "text/plain": "'In the 22nd century, a paraplegic Marine is dispatched to the moon Pandora on a unique mission, but becomes torn between following orders and protecting an alien civilization. Action Adventure Fantasy ScienceFiction cultureclash future spacewar spacecolony society spacetravel futuristic romance space alien tribe alienplanet cgi marine soldier battle loveaffair antiwar powerrelations mindandsoul 3d SamWorthington ZoeSaldana SigourneyWeaver JamesCameron'"
     },
     "execution_count": 100,
     "metadata": {},
     "output_type": "execute_result"
    }
   ],
   "source": [
    "new['tags'][0]"
   ],
   "metadata": {
    "collapsed": false,
    "ExecuteTime": {
     "end_time": "2023-08-26T03:15:15.565296400Z",
     "start_time": "2023-08-26T03:15:15.469235900Z"
    }
   }
  },
  {
   "cell_type": "code",
   "execution_count": 101,
   "outputs": [],
   "source": [
    "new['tags'] = new['tags'].apply(lambda x: x.lower())"
   ],
   "metadata": {
    "collapsed": false,
    "ExecuteTime": {
     "end_time": "2023-08-26T03:15:15.567823400Z",
     "start_time": "2023-08-26T03:15:15.476812300Z"
    }
   }
  },
  {
   "cell_type": "code",
   "execution_count": 102,
   "outputs": [
    {
     "data": {
      "text/plain": "'in the 22nd century, a paraplegic marine is dispatched to the moon pandora on a unique mission, but becomes torn between following orders and protecting an alien civilization. action adventure fantasy sciencefiction cultureclash future spacewar spacecolony society spacetravel futuristic romance space alien tribe alienplanet cgi marine soldier battle loveaffair antiwar powerrelations mindandsoul 3d samworthington zoesaldana sigourneyweaver jamescameron'"
     },
     "execution_count": 102,
     "metadata": {},
     "output_type": "execute_result"
    }
   ],
   "source": [
    "new['tags'][0]"
   ],
   "metadata": {
    "collapsed": false,
    "ExecuteTime": {
     "end_time": "2023-08-26T03:15:15.583573Z",
     "start_time": "2023-08-26T03:15:15.487369Z"
    }
   }
  },
  {
   "cell_type": "code",
   "source": [
    "from sklearn.feature_extraction.text import CountVectorizer\n",
    "cv = CountVectorizer(max_features=5000,stop_words='english')"
   ],
   "metadata": {
    "execution": {
     "iopub.status.busy": "2021-06-21T12:38:06.544599Z",
     "iopub.execute_input": "2021-06-21T12:38:06.545110Z",
     "iopub.status.idle": "2021-06-21T12:38:07.488307Z",
     "shell.execute_reply.started": "2021-06-21T12:38:06.545079Z",
     "shell.execute_reply": "2021-06-21T12:38:07.487238Z"
    },
    "trusted": true,
    "ExecuteTime": {
     "end_time": "2023-08-26T03:15:15.583573Z",
     "start_time": "2023-08-26T03:15:15.497279600Z"
    }
   },
   "execution_count": 103,
   "outputs": []
  },
  {
   "cell_type": "code",
   "source": [
    "vector = cv.fit_transform(new['tags']).toarray()"
   ],
   "metadata": {
    "execution": {
     "iopub.status.busy": "2021-06-21T12:38:10.163889Z",
     "iopub.execute_input": "2021-06-21T12:38:10.164314Z",
     "iopub.status.idle": "2021-06-21T12:38:10.821200Z",
     "shell.execute_reply.started": "2021-06-21T12:38:10.164279Z",
     "shell.execute_reply": "2021-06-21T12:38:10.820175Z"
    },
    "trusted": true,
    "ExecuteTime": {
     "end_time": "2023-08-26T03:15:16.043998Z",
     "start_time": "2023-08-26T03:15:15.505381400Z"
    }
   },
   "execution_count": 104,
   "outputs": []
  },
  {
   "cell_type": "code",
   "source": [
    "vector.shape"
   ],
   "metadata": {
    "execution": {
     "iopub.status.busy": "2021-06-19T14:00:41.894223Z",
     "iopub.execute_input": "2021-06-19T14:00:41.894747Z",
     "iopub.status.idle": "2021-06-19T14:00:41.900786Z",
     "shell.execute_reply.started": "2021-06-19T14:00:41.894699Z",
     "shell.execute_reply": "2021-06-19T14:00:41.899989Z"
    },
    "trusted": true,
    "ExecuteTime": {
     "end_time": "2023-08-26T03:15:16.060811500Z",
     "start_time": "2023-08-26T03:15:16.048012600Z"
    }
   },
   "execution_count": 105,
   "outputs": [
    {
     "data": {
      "text/plain": "(4806, 5000)"
     },
     "execution_count": 105,
     "metadata": {},
     "output_type": "execute_result"
    }
   ]
  },
  {
   "cell_type": "code",
   "execution_count": 106,
   "outputs": [
    {
     "data": {
      "text/plain": "array([0, 0, 0, ..., 0, 0, 0], dtype=int64)"
     },
     "execution_count": 106,
     "metadata": {},
     "output_type": "execute_result"
    }
   ],
   "source": [
    "vector[0]"
   ],
   "metadata": {
    "collapsed": false,
    "ExecuteTime": {
     "end_time": "2023-08-26T03:15:16.061318400Z",
     "start_time": "2023-08-26T03:15:16.053003300Z"
    }
   }
  },
  {
   "cell_type": "code",
   "execution_count": 107,
   "outputs": [
    {
     "data": {
      "text/plain": "array(['000', '007', '10', ..., 'zone', 'zoo', 'zooeydeschanel'],\n      dtype=object)"
     },
     "execution_count": 107,
     "metadata": {},
     "output_type": "execute_result"
    }
   ],
   "source": [
    "cv.get_feature_names_out()"
   ],
   "metadata": {
    "collapsed": false,
    "ExecuteTime": {
     "end_time": "2023-08-26T03:15:16.071341400Z",
     "start_time": "2023-08-26T03:15:16.061318400Z"
    }
   }
  },
  {
   "cell_type": "code",
   "source": [
    "from sklearn.metrics.pairwise import cosine_similarity"
   ],
   "metadata": {
    "execution": {
     "iopub.status.busy": "2021-06-21T12:38:13.339041Z",
     "iopub.execute_input": "2021-06-21T12:38:13.339451Z",
     "iopub.status.idle": "2021-06-21T12:38:13.390575Z",
     "shell.execute_reply.started": "2021-06-21T12:38:13.339412Z",
     "shell.execute_reply": "2021-06-21T12:38:13.389373Z"
    },
    "trusted": true,
    "ExecuteTime": {
     "end_time": "2023-08-26T03:15:16.148618700Z",
     "start_time": "2023-08-26T03:15:16.087499700Z"
    }
   },
   "execution_count": 108,
   "outputs": []
  },
  {
   "cell_type": "code",
   "source": [
    "similarity = cosine_similarity(vector)"
   ],
   "metadata": {
    "execution": {
     "iopub.status.busy": "2021-06-21T12:38:15.769495Z",
     "iopub.execute_input": "2021-06-21T12:38:15.770001Z",
     "iopub.status.idle": "2021-06-21T12:38:18.170463Z",
     "shell.execute_reply.started": "2021-06-21T12:38:15.769960Z",
     "shell.execute_reply": "2021-06-21T12:38:18.169319Z"
    },
    "trusted": true,
    "ExecuteTime": {
     "end_time": "2023-08-26T03:15:18.364448300Z",
     "start_time": "2023-08-26T03:15:16.090514600Z"
    }
   },
   "execution_count": 109,
   "outputs": []
  },
  {
   "cell_type": "code",
   "source": [
    "similarity"
   ],
   "metadata": {
    "execution": {
     "iopub.status.busy": "2021-06-19T14:06:45.472777Z",
     "iopub.execute_input": "2021-06-19T14:06:45.473087Z",
     "iopub.status.idle": "2021-06-19T14:06:45.479647Z",
     "shell.execute_reply.started": "2021-06-19T14:06:45.473061Z",
     "shell.execute_reply": "2021-06-19T14:06:45.478831Z"
    },
    "trusted": true,
    "ExecuteTime": {
     "end_time": "2023-08-26T03:15:18.401920500Z",
     "start_time": "2023-08-26T03:15:18.394511300Z"
    }
   },
   "execution_count": 110,
   "outputs": [
    {
     "data": {
      "text/plain": "array([[1.        , 0.08964215, 0.06071767, ..., 0.02519763, 0.0277885 ,\n        0.        ],\n       [0.08964215, 1.        , 0.06350006, ..., 0.02635231, 0.        ,\n        0.        ],\n       [0.06071767, 0.06350006, 1.        , ..., 0.02677398, 0.        ,\n        0.        ],\n       ...,\n       [0.02519763, 0.02635231, 0.02677398, ..., 1.        , 0.07352146,\n        0.04774099],\n       [0.0277885 , 0.        , 0.        , ..., 0.07352146, 1.        ,\n        0.05264981],\n       [0.        , 0.        , 0.        , ..., 0.04774099, 0.05264981,\n        1.        ]])"
     },
     "execution_count": 110,
     "metadata": {},
     "output_type": "execute_result"
    }
   ]
  },
  {
   "cell_type": "code",
   "source": [
    "new[new['title'] == 'The Lego Movie'].index[0]"
   ],
   "metadata": {
    "execution": {
     "iopub.status.busy": "2021-06-19T14:08:46.7159Z",
     "iopub.execute_input": "2021-06-19T14:08:46.716222Z",
     "iopub.status.idle": "2021-06-19T14:08:46.7239Z",
     "shell.execute_reply.started": "2021-06-19T14:08:46.716196Z",
     "shell.execute_reply": "2021-06-19T14:08:46.722946Z"
    },
    "trusted": true,
    "ExecuteTime": {
     "end_time": "2023-08-26T03:15:18.458399200Z",
     "start_time": "2023-08-26T03:15:18.429591700Z"
    }
   },
   "execution_count": 111,
   "outputs": [
    {
     "data": {
      "text/plain": "744"
     },
     "execution_count": 111,
     "metadata": {},
     "output_type": "execute_result"
    }
   ]
  },
  {
   "cell_type": "code",
   "source": [
    "def recommend(movie):\n",
    "    index = new[new['title'] == movie].index[0]\n",
    "    distances = sorted(list(enumerate(similarity[index])),reverse=True,key = lambda x: x[1])\n",
    "    for i in distances[1:6]:\n",
    "        print(new.iloc[i[0]].title)\n",
    "    "
   ],
   "metadata": {
    "execution": {
     "iopub.status.busy": "2021-06-21T12:38:22.542487Z",
     "iopub.execute_input": "2021-06-21T12:38:22.542900Z",
     "iopub.status.idle": "2021-06-21T12:38:22.549786Z",
     "shell.execute_reply.started": "2021-06-21T12:38:22.542867Z",
     "shell.execute_reply": "2021-06-21T12:38:22.548271Z"
    },
    "trusted": true,
    "ExecuteTime": {
     "end_time": "2023-08-26T03:15:18.463647300Z",
     "start_time": "2023-08-26T03:15:18.439954500Z"
    }
   },
   "execution_count": 112,
   "outputs": []
  },
  {
   "cell_type": "code",
   "source": [
    "recommend('Batman Begins')"
   ],
   "metadata": {
    "execution": {
     "iopub.status.busy": "2021-06-21T12:38:24.914258Z",
     "iopub.execute_input": "2021-06-21T12:38:24.914650Z",
     "iopub.status.idle": "2021-06-21T12:38:24.930018Z",
     "shell.execute_reply.started": "2021-06-21T12:38:24.914616Z",
     "shell.execute_reply": "2021-06-21T12:38:24.928876Z"
    },
    "trusted": true,
    "ExecuteTime": {
     "end_time": "2023-08-26T03:27:46.138445200Z",
     "start_time": "2023-08-26T03:27:46.123519700Z"
    }
   },
   "execution_count": 117,
   "outputs": [
    {
     "name": "stdout",
     "output_type": "stream",
     "text": [
      "The Dark Knight\n",
      "The Dark Knight Rises\n",
      "Batman\n",
      "Batman & Robin\n",
      "Batman\n"
     ]
    }
   ]
  },
  {
   "cell_type": "code",
   "execution_count": 116,
   "outputs": [
    {
     "data": {
      "text/plain": "      movie_id                                     title  \\\n0        19995                                    Avatar   \n1          285  Pirates of the Caribbean: At World's End   \n2       206647                                   Spectre   \n3        49026                     The Dark Knight Rises   \n4        49529                               John Carter   \n...        ...                                       ...   \n4804      9367                               El Mariachi   \n4805     72766                                 Newlyweds   \n4806    231617                 Signed, Sealed, Delivered   \n4807    126186                          Shanghai Calling   \n4808     25975                         My Date with Drew   \n\n                                                   tags  \n0     in the 22nd century, a paraplegic marine is di...  \n1     captain barbossa, long believed to be dead, ha...  \n2     a cryptic message from bond’s past sends him o...  \n3     following the death of district attorney harve...  \n4     john carter is a war-weary, former military ca...  \n...                                                 ...  \n4804  el mariachi just wants to play his guitar and ...  \n4805  a newlywed couple's honeymoon is upended by th...  \n4806  \"signed, sealed, delivered\" introduces a dedic...  \n4807  when ambitious new york attorney sam is sent t...  \n4808  ever since the second grade when he first saw ...  \n\n[4806 rows x 3 columns]",
      "text/html": "<div>\n<style scoped>\n    .dataframe tbody tr th:only-of-type {\n        vertical-align: middle;\n    }\n\n    .dataframe tbody tr th {\n        vertical-align: top;\n    }\n\n    .dataframe thead th {\n        text-align: right;\n    }\n</style>\n<table border=\"1\" class=\"dataframe\">\n  <thead>\n    <tr style=\"text-align: right;\">\n      <th></th>\n      <th>movie_id</th>\n      <th>title</th>\n      <th>tags</th>\n    </tr>\n  </thead>\n  <tbody>\n    <tr>\n      <th>0</th>\n      <td>19995</td>\n      <td>Avatar</td>\n      <td>in the 22nd century, a paraplegic marine is di...</td>\n    </tr>\n    <tr>\n      <th>1</th>\n      <td>285</td>\n      <td>Pirates of the Caribbean: At World's End</td>\n      <td>captain barbossa, long believed to be dead, ha...</td>\n    </tr>\n    <tr>\n      <th>2</th>\n      <td>206647</td>\n      <td>Spectre</td>\n      <td>a cryptic message from bond’s past sends him o...</td>\n    </tr>\n    <tr>\n      <th>3</th>\n      <td>49026</td>\n      <td>The Dark Knight Rises</td>\n      <td>following the death of district attorney harve...</td>\n    </tr>\n    <tr>\n      <th>4</th>\n      <td>49529</td>\n      <td>John Carter</td>\n      <td>john carter is a war-weary, former military ca...</td>\n    </tr>\n    <tr>\n      <th>...</th>\n      <td>...</td>\n      <td>...</td>\n      <td>...</td>\n    </tr>\n    <tr>\n      <th>4804</th>\n      <td>9367</td>\n      <td>El Mariachi</td>\n      <td>el mariachi just wants to play his guitar and ...</td>\n    </tr>\n    <tr>\n      <th>4805</th>\n      <td>72766</td>\n      <td>Newlyweds</td>\n      <td>a newlywed couple's honeymoon is upended by th...</td>\n    </tr>\n    <tr>\n      <th>4806</th>\n      <td>231617</td>\n      <td>Signed, Sealed, Delivered</td>\n      <td>\"signed, sealed, delivered\" introduces a dedic...</td>\n    </tr>\n    <tr>\n      <th>4807</th>\n      <td>126186</td>\n      <td>Shanghai Calling</td>\n      <td>when ambitious new york attorney sam is sent t...</td>\n    </tr>\n    <tr>\n      <th>4808</th>\n      <td>25975</td>\n      <td>My Date with Drew</td>\n      <td>ever since the second grade when he first saw ...</td>\n    </tr>\n  </tbody>\n</table>\n<p>4806 rows × 3 columns</p>\n</div>"
     },
     "execution_count": 116,
     "metadata": {},
     "output_type": "execute_result"
    }
   ],
   "source": [
    "new"
   ],
   "metadata": {
    "collapsed": false,
    "ExecuteTime": {
     "end_time": "2023-08-26T03:26:55.920346500Z",
     "start_time": "2023-08-26T03:26:55.858481800Z"
    }
   }
  },
  {
   "cell_type": "code",
   "source": [
    "import pickle"
   ],
   "metadata": {
    "execution": {
     "iopub.status.busy": "2021-06-21T12:39:59.606475Z",
     "iopub.execute_input": "2021-06-21T12:39:59.606924Z",
     "iopub.status.idle": "2021-06-21T12:39:59.612177Z",
     "shell.execute_reply.started": "2021-06-21T12:39:59.606890Z",
     "shell.execute_reply": "2021-06-21T12:39:59.610858Z"
    },
    "trusted": true,
    "ExecuteTime": {
     "end_time": "2023-08-26T03:15:18.490678200Z",
     "start_time": "2023-08-26T03:15:18.466946500Z"
    }
   },
   "execution_count": 114,
   "outputs": []
  },
  {
   "cell_type": "code",
   "source": [
    "pickle.dump(new,open('movie_list.pkl','wb'))\n",
    "pickle.dump(similarity,open('similarity.pkl','wb'))"
   ],
   "metadata": {
    "execution": {
     "iopub.status.busy": "2021-06-21T12:40:53.373186Z",
     "iopub.execute_input": "2021-06-21T12:40:53.373581Z",
     "iopub.status.idle": "2021-06-21T12:40:53.784869Z",
     "shell.execute_reply.started": "2021-06-21T12:40:53.373547Z",
     "shell.execute_reply": "2021-06-21T12:40:53.783635Z"
    },
    "trusted": true,
    "ExecuteTime": {
     "end_time": "2023-08-26T03:15:18.780566500Z",
     "start_time": "2023-08-26T03:15:18.471739200Z"
    }
   },
   "execution_count": 115,
   "outputs": []
  },
  {
   "cell_type": "code",
   "source": [],
   "metadata": {
    "ExecuteTime": {
     "end_time": "2023-08-26T03:15:18.791431300Z",
     "start_time": "2023-08-26T03:15:18.782663100Z"
    }
   },
   "execution_count": 115,
   "outputs": []
  }
 ]
}
